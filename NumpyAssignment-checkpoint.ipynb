{
 "cells": [
  {
   "cell_type": "code",
   "execution_count": 2,
   "id": "0ae2b2ea-87ec-4e27-b4c9-b1b5f62732a1",
   "metadata": {},
   "outputs": [],
   "source": [
    "import numpy as np"
   ]
  },
  {
   "cell_type": "markdown",
   "id": "ca273367-ae2e-439e-9b69-bd9cd971c6e6",
   "metadata": {},
   "source": [
    "###Students' height"
   ]
  },
  {
   "cell_type": "code",
   "execution_count": 3,
   "id": "0e05afb5-d71b-4848-97e2-c705abfd15e0",
   "metadata": {},
   "outputs": [
    {
     "name": "stdout",
     "output_type": "stream",
     "text": [
      "[160 155 172 165 180 158 175 163 171 168]\n"
     ]
    }
   ],
   "source": [
    "heights = np.array([160, 155, 172, 165, 180, 158, 175, 163, 171, 168])\n",
    "print(heights)"
   ]
  },
  {
   "cell_type": "code",
   "execution_count": 4,
   "id": "a66413ff-4c13-4492-b629-6b68cd0c500b",
   "metadata": {},
   "outputs": [
    {
     "name": "stdout",
     "output_type": "stream",
     "text": [
      "Mean: 166.7\n"
     ]
    }
   ],
   "source": [
    "###mean\n",
    "mean = np.mean(heights)\n",
    "print(\"Mean:\", mean)"
   ]
  },
  {
   "cell_type": "code",
   "execution_count": 6,
   "id": "e76821b3-2a00-4221-adff-b43580d7d55a",
   "metadata": {},
   "outputs": [
    {
     "name": "stdout",
     "output_type": "stream",
     "text": [
      "Median: 166.5\n"
     ]
    }
   ],
   "source": [
    "###median\n",
    "median = np.median(heights)\n",
    "print(\"Median:\", median)"
   ]
  },
  {
   "cell_type": "code",
   "execution_count": 7,
   "id": "d0dbaf66-665e-4731-9780-7d595c15f415",
   "metadata": {},
   "outputs": [
    {
     "name": "stdout",
     "output_type": "stream",
     "text": [
      "Standard Deviation: 7.5372408744845085\n"
     ]
    }
   ],
   "source": [
    "###standard deviation\n",
    "std_dev = np.std(heights)\n",
    "print(\"Standard Deviation:\", std_dev)"
   ]
  },
  {
   "cell_type": "code",
   "execution_count": 14,
   "id": "c8622d3a-c7e8-44c4-9282-92b77d1a1576",
   "metadata": {},
   "outputs": [
    {
     "name": "stdout",
     "output_type": "stream",
     "text": [
      "Mean: 166.70, Median: 166.5, Standard Deviation: 7.54\n"
     ]
    }
   ],
   "source": [
    "print(f\"Mean: {mean:.2f}, Median: {median}, Standard Deviation: {std_dev:.2f}\")\n"
   ]
  },
  {
   "cell_type": "code",
   "execution_count": 15,
   "id": "e11d4f4e-4660-4e34-8972-6f2ff325d861",
   "metadata": {},
   "outputs": [
    {
     "name": "stdout",
     "output_type": "stream",
     "text": [
      "Normalized Heights: [-0.88891945 -1.55229217  0.70317509 -0.22554673  1.76457144 -1.15426854\n",
      "  1.10119872 -0.49089581  0.57050054  0.17247691]\n"
     ]
    }
   ],
   "source": [
    "###normalised heights\n",
    "normalized_heights = (heights - mean) / std_dev\n",
    "print(\"Normalized Heights:\", normalized_heights)"
   ]
  },
  {
   "cell_type": "code",
   "execution_count": 26,
   "id": "6f6f3747-8b0a-4142-ae95-b759b966c591",
   "metadata": {},
   "outputs": [
    {
     "name": "stdout",
     "output_type": "stream",
     "text": [
      "Argmax: 4\n"
     ]
    }
   ],
   "source": [
    "#tallest student\n",
    "tallest_student_idx = np.argmax(heights)\n",
    "print(\"Argmax:\", tallest_student_idx)"
   ]
  },
  {
   "cell_type": "code",
   "execution_count": 25,
   "id": "fd3660c8-424e-42e7-a10c-37c3d942a53d",
   "metadata": {},
   "outputs": [
    {
     "name": "stdout",
     "output_type": "stream",
     "text": [
      "Argmin: 1\n"
     ]
    }
   ],
   "source": [
    "###shortest student\n",
    "shortest_student = np.argmin(heights)\n",
    "print(\"Argmin:\", shortest_student)"
   ]
  },
  {
   "cell_type": "code",
   "execution_count": 28,
   "id": "d415be84-27cf-4536-a8df-c47281fa0142",
   "metadata": {},
   "outputs": [
    {
     "name": "stdout",
     "output_type": "stream",
     "text": [
      "Tallest student index: 4, Shortest student index: 1\n"
     ]
    }
   ],
   "source": [
    "print(f\"Tallest student index: {tallest_student_idx}, Shortest student index: {shortest_student}\")\n"
   ]
  },
  {
   "cell_type": "code",
   "execution_count": null,
   "id": "b81dbc80-ce00-4bd7-94f5-75ababbb2d5c",
   "metadata": {},
   "outputs": [],
   "source": []
  },
  {
   "cell_type": "code",
   "execution_count": null,
   "id": "f407b4a4-c5ad-44bc-8bad-3631ebd716e4",
   "metadata": {},
   "outputs": [],
   "source": [
    "###differrence between tallest and shortest \n",
    "height_diff = heights[tallest_student_idx] - heights[shortest_student]\n",
    "print(f\"Height difference: {height_diff} cm\")"
   ]
  },
  {
   "cell_type": "code",
   "execution_count": 30,
   "id": "0b6fe416-38d1-4f5a-a379-eb28d379ac29",
   "metadata": {},
   "outputs": [
    {
     "name": "stdout",
     "output_type": "stream",
     "text": [
      "Sample without replacement: [165 172 175 180 168]\n"
     ]
    }
   ],
   "source": [
    "sample_no_replacement = np.random.choice(heights, 5, replace=False)\n",
    "print(\"Sample without replacement:\", sample_no_replacement)"
   ]
  },
  {
   "cell_type": "code",
   "execution_count": null,
   "id": "de23b96f-53bd-43d1-a191-a6275323ba3b",
   "metadata": {},
   "outputs": [],
   "source": []
  }
 ],
 "metadata": {
  "kernelspec": {
   "display_name": "Python 3 (ipykernel)",
   "language": "python",
   "name": "python3"
  },
  "language_info": {
   "codemirror_mode": {
    "name": "ipython",
    "version": 3
   },
   "file_extension": ".py",
   "mimetype": "text/x-python",
   "name": "python",
   "nbconvert_exporter": "python",
   "pygments_lexer": "ipython3",
   "version": "3.12.4"
  }
 },
 "nbformat": 4,
 "nbformat_minor": 5
}
